{
 "cells": [
  {
   "cell_type": "markdown",
   "metadata": {},
   "source": [
    "### Stage 1\n",
    "\n",
    "Run multi-step feature selection (using RFE) and score the model on non-COVID external test set. For checking the code for the ensemble model code see experiment 1 in `[Stage 2] experiments.ipynb`."
   ]
  },
  {
   "cell_type": "code",
   "execution_count": null,
   "metadata": {},
   "outputs": [],
   "source": [
    "import util\n",
    "import model\n",
    "import config"
   ]
  },
  {
   "cell_type": "markdown",
   "metadata": {},
   "source": [
    "### Load non-COVID data (group 1)"
   ]
  },
  {
   "cell_type": "code",
   "execution_count": null,
   "metadata": {},
   "outputs": [],
   "source": [
    "data, x, y, xgb_data = util.load_data(config.NONCOVID_XGB_TRAIN_DATA_LOC)"
   ]
  },
  {
   "cell_type": "markdown",
   "metadata": {},
   "source": [
    "### Grid search CV\n",
    "\n",
    "Multi-stage grid search:\n",
    "1. Generate random CV folds.\n",
    "2. Use xgb.cv to find initial optimal # of boosting rounds for XGB (using default parameters)\n",
    "3. Using optimal # of trees from the previous step, run a Grid Search CV on the following parameters:\n",
    "   - max_depth and min_child_weight\n",
    "   - gamma\n",
    "   - subsample and colsample_bytree\n",
    "4. Run a 2nd, more sensitive Grid Search CV on the best parameters from the previous step\n",
    "5. Fit a model on all data using the best parameters\n",
    "6. Run Recursive Feature Elimination (RFE) using the model from (5).\n",
    "\n",
    "Repeat (1)-(6) in three stages to find the optimal subset of features."
   ]
  },
  {
   "cell_type": "code",
   "execution_count": null,
   "metadata": {
    "scrolled": true
   },
   "outputs": [],
   "source": [
    "# Stage 1\n",
    "\n",
    "# Generate CV folds\n",
    "cv_folds = util.generate_cv_folds(data, util.CV_N_FOLDS, util.CV_N_REPEATS, random_state=31)\n",
    "\n",
    "# Run XGB grid search\n",
    "booster, best_params = model.run_xgb_grid_search(xgb_data, x, y, cv_folds)\n",
    "\n",
    "# Run recursive feature elimination\n",
    "x_reduced_1, xgb_data_reduced_1 = model.recursive_feature_selection(booster, x, y, cv_folds, step=1, force_select_features=config.FEATURES_FORCE_SELECT_ALL)\n"
   ]
  },
  {
   "cell_type": "code",
   "execution_count": null,
   "metadata": {},
   "outputs": [],
   "source": [
    "# Stage 2\n",
    "\n",
    "# Generate CV folds\n",
    "cv_folds = util.generate_cv_folds(data, util.CV_N_FOLDS, util.CV_N_REPEATS, random_state=32)\n",
    "\n",
    "# Run XGB grid search\n",
    "booster, best_params = model.run_xgb_grid_search(xgb_data_reduced_1, x_reduced_1, y, cv_folds)\n",
    "\n",
    "# Run recursive feature elimination\n",
    "x_reduced_2, xgb_data_reduced_2 = model.recursive_feature_selection(booster, x_reduced_1, y, cv_folds, step=1, force_select_features=config.FEATURES_FORCE_SELECT_ALL)\n"
   ]
  },
  {
   "cell_type": "code",
   "execution_count": null,
   "metadata": {
    "scrolled": true
   },
   "outputs": [],
   "source": [
    "# Stage 3\n",
    "\n",
    "# Generate CV folds\n",
    "cv_folds = util.generate_cv_folds(data, util.CV_N_FOLDS, util.CV_N_REPEATS, random_state=32)\n",
    "\n",
    "# Run XGB grid search\n",
    "booster, best_params = model.run_xgb_grid_search(xgb_data_reduced_2, x_reduced_2, y, cv_folds)\n",
    "\n",
    "# Run recursive feature elimination\n",
    "x_reduced_3, xgb_data_reduced_3 = model.recursive_feature_selection(booster, x_reduced_2, y, cv_folds, step=1, force_select_features=config.FEATURES_FORCE_SELECT_ALL)\n"
   ]
  },
  {
   "cell_type": "code",
   "execution_count": null,
   "metadata": {},
   "outputs": [],
   "source": [
    "# Final fitting\n",
    "\n",
    "# Generate CV folds\n",
    "cv_folds = util.generate_cv_folds(data, util.CV_N_FOLDS, util.CV_N_REPEATS, random_state=33)\n",
    "\n",
    "# Run XGB grid search and report score\n",
    "booster, best_params = model.run_xgb_grid_search(xgb_data_reduced_3, x_reduced_3, y, cv_folds)\n"
   ]
  }
 ],
 "metadata": {
  "kernelspec": {
   "display_name": "Python [conda env:python3]",
   "language": "python",
   "name": "conda-env-python3-py"
  },
  "language_info": {
   "codemirror_mode": {
    "name": "ipython",
    "version": 3
   },
   "file_extension": ".py",
   "mimetype": "text/x-python",
   "name": "python",
   "nbconvert_exporter": "python",
   "pygments_lexer": "ipython3",
   "version": "3.6.10"
  }
 },
 "nbformat": 4,
 "nbformat_minor": 4
}
